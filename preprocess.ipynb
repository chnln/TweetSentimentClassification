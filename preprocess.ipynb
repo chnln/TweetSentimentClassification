{
 "cells": [
  {
   "cell_type": "code",
   "execution_count": 2,
   "metadata": {},
   "outputs": [],
   "source": [
    "# 将数据转换成csv文件，列名为tweet和label\n",
    "# twitter-2016test-A.txt中原第11065行只有一个引号，手动修正了此错误\n",
    "\n",
    "import os\n",
    "import pandas as pd\n",
    "import random\n",
    "\n",
    "sentiment2label = {\n",
    "    \"negative\": 0,\n",
    "    \"neutral\": 1,\n",
    "    \"positive\": 2\n",
    "}\n",
    "\n",
    "def file_to_list(fp):\n",
    "    text_label = list()\n",
    "    with open(fp, \"r\") as fin:\n",
    "        for line in fin.readlines():\n",
    "            splits = line.strip().split(\"\\t\")\n",
    "            if file.endswith(\"txt\"):\n",
    "                text_label.append([splits[2], sentiment2label[splits[1]]])\n",
    "            else:\n",
    "                text_label.append([splits[3], sentiment2label[splits[2]]])\n",
    "    return text_label\n",
    "\n",
    "folder_train = \"/home/featurize/data/2017_English_final/GOLD/Subtask_A\"\n",
    "fp_test = \"/home/featurize/data/SemEval2017-task4-test/SemEval2017-task4-test.subtask-A.english.txt\"\n",
    "\n",
    "train_data = list()\n",
    "for file in os.listdir(folder_train):\n",
    "    if not file.endswith((\"tsv\", \"txt\")) or \"README\" in file:\n",
    "        continue\n",
    "    fp = os.path.join(folder_train, file)\n",
    "    train_data += file_to_list(fp)    \n",
    "test_data = file_to_list(fp_test)\n",
    "\n",
    "df_train = pd.DataFrame(train_data, columns=[\"tweet\", \"label\"])\n",
    "df_test = pd.DataFrame(test_data, columns=[\"tweet\", \"label\"])\n",
    "df_train.to_csv(\"data/semeval_2017_task4_train.csv\", index=False)\n",
    "df_test.to_csv(\"data/semeval_2017_task4_test.csv\", index=False)\n",
    "\n",
    "df_train_trial = pd.DataFrame(random.sample(train_data, 1000), columns=[\"tweet\", \"label\"])\n",
    "df_test_trial = pd.DataFrame(random.sample(test_data, 1000), columns=[\"tweet\", \"label\"])\n",
    "df_train_trial.to_csv(\"data/semeval_2017_task4_train_trial.csv\", index=False)\n",
    "df_test_trial.to_csv(\"data/semeval_2017_task4_test_trial.csv\", index=False)\n"
   ]
  },
  {
   "cell_type": "code",
   "execution_count": 5,
   "metadata": {},
   "outputs": [],
   "source": [
    "import re\n",
    "\n",
    "def preprocess_tweet(origin):\n",
    "    tweet = re.sub(r\"\\\\u2019\", \"'\", origin).lower() # I\\u2019m -> I'm\n",
    "    tweet = re.sub(r\"\\\\u002c\", \",\", tweet) # \\u002c -> ,\n",
    "    tweet = re.sub(r\"@\\S+\", \"@user\", tweet)\n",
    "    tweet = re.sub(r\"https?:\\/\\/\\S+\", \"http\", tweet)\n",
    "    tweet = re.sub(r\"(www.)?[a-z]+\\.(com)/?[a-z0-9]*\", \"http\", tweet)\n",
    "    return tweet\n",
    "\n",
    "df_train_trial[\"tweet_preprocessed\"] = df_train_trial[\"tweet\"].apply(lambda x: preprocess_tweet(x))\n",
    "df_train_trial[[\"tweet_preprocessed\", \"label\"]].rename(columns={\"tweet_preprocessed\": \"tweet\"}).to_csv(\"data/semeval_2017_task4_train_trial_preprocessed.csv\", index=False)\n",
    "\n",
    "df_test_trial[\"tweet_preprocessed\"] = df_test_trial[\"tweet\"].apply(lambda x: preprocess_tweet(x))\n",
    "df_test_trial[[\"tweet_preprocessed\", \"label\"]].rename(columns={\"tweet_preprocessed\": \"tweet\"}).to_csv(\"data/semeval_2017_task4_test_trial_preprocessed.csv\", index=False)\n",
    "\n",
    "df_train[\"tweet_preprocessed\"] = df_train[\"tweet\"].apply(lambda x: preprocess_tweet(x))\n",
    "df_train[[\"tweet_preprocessed\", \"label\"]].rename(columns={\"tweet_preprocessed\": \"tweet\"}).to_csv(\"data/semeval_2017_task4_train_preprocessed.csv\", index=False)\n",
    "\n",
    "df_test[\"tweet_preprocessed\"] = df_test[\"tweet\"].apply(lambda x: preprocess_tweet(x))\n",
    "df_test[[\"tweet_preprocessed\", \"label\"]].rename(columns={\"tweet_preprocessed\": \"tweet\"}).to_csv(\"data/semeval_2017_task4_test_preprocessed.csv\", index=False)"
   ]
  },
  {
   "cell_type": "code",
   "execution_count": 11,
   "metadata": {},
   "outputs": [
    {
     "data": {
      "text/plain": [
       "1    5937\n",
       "0    3972\n",
       "2    2375\n",
       "Name: label, dtype: int64"
      ]
     },
     "execution_count": 11,
     "metadata": {},
     "output_type": "execute_result"
    }
   ],
   "source": [
    "df_test[\"label\"].value_counts()"
   ]
  }
 ],
 "metadata": {
  "interpreter": {
   "hash": "51e53043276d5a1464ddf65cff0bab4d6676ca5d48461a35164dd024e6c7734d"
  },
  "kernelspec": {
   "display_name": "Python 3 (ipykernel)",
   "language": "python",
   "name": "python3"
  },
  "language_info": {
   "codemirror_mode": {
    "name": "ipython",
    "version": 3
   },
   "file_extension": ".py",
   "mimetype": "text/x-python",
   "name": "python",
   "nbconvert_exporter": "python",
   "pygments_lexer": "ipython3",
   "version": "3.7.10"
  }
 },
 "nbformat": 4,
 "nbformat_minor": 4
}
